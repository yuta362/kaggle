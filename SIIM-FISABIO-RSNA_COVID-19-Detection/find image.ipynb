{
 "cells": [
  {
   "cell_type": "code",
   "execution_count": 36,
   "id": "370db735-241c-46b6-8f77-8cc0b3b6266f",
   "metadata": {},
   "outputs": [
    {
     "name": "stdout",
     "output_type": "stream",
     "text": [
      "6334\n"
     ]
    }
   ],
   "source": [
    "from PIL import Image, ImageFilter\n",
    "import numpy\n",
    "from glob import glob \n",
    "import cv2\n",
    "\n",
    "data_dir = '/Volumes/Samsung_T5/siim-covid19-detection/train/'\n",
    "atypical_path = data_dir + '/' + 'Atypical'\n",
    "indeterminate_path = data_dir + '/' + 'Indeterminate'\n",
    "negative_path = data_dir + '/' + 'Negative'\n",
    "typical_path = data_dir + '/' + 'Typical'\n",
    "\n",
    "path_list = [atypical_path, indeterminate_path, negative_path, typical_path]\n",
    "file_count = 0\n",
    "\n",
    "for path in path_list:\n",
    "    files = glob('{}/*.jpg'.format(path))\n",
    "    for file in files:\n",
    "        if Image.open(file):\n",
    "            file_count += 1\n",
    "print(file_count)"
   ]
  },
  {
   "cell_type": "code",
   "execution_count": 33,
   "id": "31504579-1bf4-4cf1-8ecb-7cea485833a6",
   "metadata": {},
   "outputs": [
    {
     "name": "stdout",
     "output_type": "stream",
     "text": [
      "489\n",
      "1108\n",
      "1737\n",
      "3007\n"
     ]
    }
   ],
   "source": [
    "import os\n",
    "\n",
    "for path in path_list:\n",
    "    print(sum(os.path.isfile(os.path.join(path, name)) for name in os.listdir(path)))"
   ]
  }
 ],
 "metadata": {
  "kernelspec": {
   "display_name": "Python 3",
   "language": "python",
   "name": "python3"
  },
  "language_info": {
   "codemirror_mode": {
    "name": "ipython",
    "version": 3
   },
   "file_extension": ".py",
   "mimetype": "text/x-python",
   "name": "python",
   "nbconvert_exporter": "python",
   "pygments_lexer": "ipython3",
   "version": "3.7.3"
  }
 },
 "nbformat": 4,
 "nbformat_minor": 5
}
