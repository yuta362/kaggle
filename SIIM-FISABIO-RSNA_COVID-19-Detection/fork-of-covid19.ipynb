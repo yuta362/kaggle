{
 "cells": [
  {
   "cell_type": "code",
   "execution_count": 1,
   "id": "46ca81b9",
   "metadata": {
    "execution": {
     "iopub.execute_input": "2021-08-19T15:13:25.779401Z",
     "iopub.status.busy": "2021-08-19T15:13:25.778581Z",
     "iopub.status.idle": "2021-08-19T15:13:48.005321Z",
     "shell.execute_reply": "2021-08-19T15:13:48.005866Z",
     "shell.execute_reply.started": "2021-08-12T08:29:06.396033Z"
    },
    "papermill": {
     "duration": 22.350863,
     "end_time": "2021-08-19T15:13:48.006202",
     "exception": false,
     "start_time": "2021-08-19T15:13:25.655339",
     "status": "completed"
    },
    "tags": []
   },
   "outputs": [],
   "source": [
    "import pandas as pd\n",
    "import numpy as np\n",
    "import pydicom\n",
    "from glob import glob\n",
    "import os\n",
    "import cv2\n",
    "import ast\n",
    "import sys\n",
    "from PIL import Image, ImageOps\n",
    "import matplotlib.pyplot as plt\n",
    "import matplotlib.patches as patches\n",
    "%matplotlib inline\n",
    "\n",
    "data_dir = '../input/siim-covid19-detection'\n",
    "resize_data_dir = '../input/siim-covid19-resized-to-256px-jpg'\n",
    "train_dir = resize_data_dir + '/' + 'train'\n",
    "train_img_csv = pd.read_csv('{}/train_image_level.csv'.format(data_dir))\n",
    "train_study_csv = pd.read_csv('{}/train_study_level.csv'.format(data_dir))\n",
    "train_study_csv['id'] = train_study_csv['id'].str.replace('_study', \"\")\n",
    "train_study_csv.rename({'id':'StudyInstanceUID'}, axis=1, inplace=True)\n",
    "merge_csv = train_img_csv.merge(train_study_csv, on='StudyInstanceUID')\n",
    "merge_csv['id'] = merge_csv['id'].str.replace('_image', '.jpg')\n",
    "img_list = list(merge_csv['id'])\n",
    "img_files = []\n",
    "train_imgs = []\n",
    "for dirname, _, filenames in os.walk(train_dir):\n",
    "    for filename in filenames:\n",
    "        imgname = os.path.join(dirname, filename)\n",
    "        img_files.append(imgname)\n",
    "for img in img_list:\n",
    "    for file in img_files:\n",
    "        if img==file.split('/')[-1]:\n",
    "            train_imgs.append(file)\n",
    "merge_csv['img_path'] = train_imgs\n",
    "merge_csv.to_csv('merge_csv.csv')"
   ]
  },
  {
   "cell_type": "markdown",
   "id": "a99db416",
   "metadata": {
    "execution": {
     "iopub.execute_input": "2021-08-12T05:07:06.749415Z",
     "iopub.status.busy": "2021-08-12T05:07:06.749082Z",
     "iopub.status.idle": "2021-08-12T05:08:11.630621Z",
     "shell.execute_reply": "2021-08-12T05:08:11.629598Z",
     "shell.execute_reply.started": "2021-08-12T05:07:06.749388Z"
    },
    "papermill": {
     "duration": 0.019732,
     "end_time": "2021-08-19T15:13:48.047372",
     "exception": false,
     "start_time": "2021-08-19T15:13:48.027640",
     "status": "completed"
    },
    "tags": []
   },
   "source": [
    "### sort image files into each type's folder"
   ]
  },
  {
   "cell_type": "code",
   "execution_count": 2,
   "id": "01abe258",
   "metadata": {
    "execution": {
     "iopub.execute_input": "2021-08-19T15:13:48.098938Z",
     "iopub.status.busy": "2021-08-19T15:13:48.098204Z",
     "iopub.status.idle": "2021-08-19T15:14:22.429374Z",
     "shell.execute_reply": "2021-08-19T15:14:22.428805Z",
     "shell.execute_reply.started": "2021-08-19T14:15:27.202258Z"
    },
    "papermill": {
     "duration": 34.362442,
     "end_time": "2021-08-19T15:14:22.429557",
     "exception": false,
     "start_time": "2021-08-19T15:13:48.067115",
     "status": "completed"
    },
    "tags": []
   },
   "outputs": [
    {
     "data": {
      "application/vnd.jupyter.widget-view+json": {
       "model_id": "02552ba0340c4d86a5a76d5f3dcca9d0",
       "version_major": 2,
       "version_minor": 0
      },
      "text/plain": [
       "  0%|          | 0/6334 [00:00<?, ?it/s]"
      ]
     },
     "metadata": {},
     "output_type": "display_data"
    }
   ],
   "source": [
    "import os \n",
    "import matplotlib.pyplot as plt\n",
    "from PIL import Image\n",
    "import pandas as pd\n",
    "from tqdm.auto import tqdm\n",
    "import numpy as np\n",
    "\n",
    "data_dir = '../input/siim-covid19-resized-to-256px-jpg/train'\n",
    "negative_path = './gen_data/Negative'\n",
    "typical_path = './gen_data/Typical'\n",
    "indeterminate_path = './gen_data/Indeterminate'\n",
    "atypical_path = './gen_data/Atypical'\n",
    "merge_csv = pd.read_csv( '../input/original-csv/merge_csv.csv')\n",
    "\n",
    "os.makedirs(negative_path, exist_ok=True)\n",
    "os.makedirs(typical_path, exist_ok=True)\n",
    "os.makedirs(indeterminate_path, exist_ok=True)\n",
    "os.makedirs(atypical_path, exist_ok=True)\n",
    "\n",
    "for row in tqdm(range(len(merge_csv))):\n",
    "    file_path = merge_csv.loc[row, 'img_path']\n",
    "    img = Image.open(file_path)\n",
    "    \n",
    "    if merge_csv.loc[row, 'Negative for Pneumonia'] == 1:\n",
    "        img.save('{}/{}.jpg'.format(negative_path, merge_csv.loc[row, 'id'].split('.')[0]))\n",
    "    elif merge_csv.loc[row, 'Typical Appearance'] == 1:\n",
    "        img.save('{}/{}.jpg'.format(typical_path, merge_csv.loc[row, 'id'].split('.')[0]))\n",
    "    elif merge_csv.loc[row, 'Indeterminate Appearance'] == 1:\n",
    "        #cv2.imwrite('{}/Indeterminate/{}.dcm'.format(classes_path, merge_csv.loc[row, 'id'].split('.')[0]), img8)\n",
    "        img.save('{}/{}.jpg'.format(indeterminate_path, merge_csv.loc[row, 'id'].split('.')[0]))\n",
    "    elif merge_csv.loc[row, 'Atypical Appearance'] == 1:\n",
    "        #cv2.imwrite('{}/Atypical/{}.dcm'.format(classes_path, merge_csv.loc[row, 'id'].split('.')[0]), img8)\n",
    "        img.save('{}/{}.jpg'.format(atypical_path, merge_csv.loc[row, 'id'].split('.')[0]))\n",
    "        "
   ]
  },
  {
   "cell_type": "markdown",
   "id": "aa82b3e0",
   "metadata": {
    "papermill": {
     "duration": 0.021243,
     "end_time": "2021-08-19T15:14:22.472011",
     "exception": false,
     "start_time": "2021-08-19T15:14:22.450768",
     "status": "completed"
    },
    "tags": []
   },
   "source": [
    "### Modering ResNet50"
   ]
  },
  {
   "cell_type": "code",
   "execution_count": 3,
   "id": "eedb2561",
   "metadata": {
    "execution": {
     "iopub.execute_input": "2021-08-19T15:14:22.523104Z",
     "iopub.status.busy": "2021-08-19T15:14:22.522392Z",
     "iopub.status.idle": "2021-08-19T15:14:32.053950Z",
     "shell.execute_reply": "2021-08-19T15:14:32.053240Z",
     "shell.execute_reply.started": "2021-08-19T14:16:52.20466Z"
    },
    "papermill": {
     "duration": 9.561138,
     "end_time": "2021-08-19T15:14:32.054111",
     "exception": false,
     "start_time": "2021-08-19T15:14:22.492973",
     "status": "completed"
    },
    "tags": []
   },
   "outputs": [],
   "source": [
    "import keras\n",
    "import tensorflow as tf\n",
    "from keras import backend as K\n",
    "#from keras.models import Sequential, Model\n",
    "#from keras.layers import Input, Conv2D, MaxPool2D, BatchNormalization, ReLU, Flatten, Dense, Add, Dropout\n",
    "#from keras.merge import add\n",
    "from keras.regularizers import l2\n",
    "from keras.preprocessing.image import load_img\n",
    "from keras.preprocessing.image import ImageDataGenerator\n",
    "from tensorflow.keras.applications.resnet50 import ResNet50\n",
    "from tensorflow.keras.layers import Input, Flatten, Dense, Dropout\n",
    "from keras.models import Sequential, Model\n",
    "from tensorflow.keras.layers import Conv2D, Dense, BatchNormalization, Activation, MaxPool2D, GlobalAveragePooling2D, Add\n",
    "from tensorflow.keras.models import Model\n",
    "from tensorflow.keras.callbacks import ModelCheckpoint, EarlyStopping\n",
    "\n",
    "\n",
    "input_tensor = Input(shape=(256,256,1))\n",
    "## train skratch ==>> weights=None ##\n",
    "ResNet50 = ResNet50(include_top=False, weights=None ,input_tensor=input_tensor)\n",
    "#def softmax\n",
    "top_model = Sequential()\n",
    "top_model.add(Flatten(input_shape=ResNet50.output_shape[1:]))\n",
    "top_model.add(Dense(128, activation='relu'))\n",
    "top_model.add(Dropout(0.5))\n",
    "top_model.add(Dense(4, activation='softmax'))\n",
    "model = Model(inputs=ResNet50.input, outputs=top_model(ResNet50.output))"
   ]
  },
  {
   "cell_type": "markdown",
   "id": "ddf9986c",
   "metadata": {
    "papermill": {
     "duration": 0.020761,
     "end_time": "2021-08-19T15:14:32.096438",
     "exception": false,
     "start_time": "2021-08-19T15:14:32.075677",
     "status": "completed"
    },
    "tags": []
   },
   "source": [
    "### Training(ImegeDatagenerator)"
   ]
  },
  {
   "cell_type": "code",
   "execution_count": 4,
   "id": "457fb222",
   "metadata": {
    "execution": {
     "iopub.execute_input": "2021-08-19T15:14:32.161574Z",
     "iopub.status.busy": "2021-08-19T15:14:32.160404Z",
     "iopub.status.idle": "2021-08-19T15:17:43.280682Z",
     "shell.execute_reply": "2021-08-19T15:17:43.277887Z",
     "shell.execute_reply.started": "2021-08-19T14:17:06.317643Z"
    },
    "papermill": {
     "duration": 191.163794,
     "end_time": "2021-08-19T15:17:43.280854",
     "exception": false,
     "start_time": "2021-08-19T15:14:32.117060",
     "status": "completed"
    },
    "tags": []
   },
   "outputs": [
    {
     "name": "stdout",
     "output_type": "stream",
     "text": [
      "Found 5069 images belonging to 4 classes.\n",
      "Found 1265 images belonging to 4 classes.\n"
     ]
    },
    {
     "name": "stderr",
     "output_type": "stream",
     "text": [
      "/opt/conda/lib/python3.7/site-packages/tensorflow/python/keras/engine/training.py:1844: UserWarning: `Model.fit_generator` is deprecated and will be removed in a future version. Please use `Model.fit`, which supports generators.\n",
      "  warnings.warn('`Model.fit_generator` is deprecated and '\n"
     ]
    },
    {
     "name": "stdout",
     "output_type": "stream",
     "text": [
      "Epoch 1/20\n",
      "317/317 [==============================] - 50s 116ms/step - loss: 540.3473 - accuracy: 0.4526 - val_loss: 1.2166 - val_accuracy: 0.4751\n",
      "\n",
      "Epoch 00001: val_loss improved from inf to 1.21663, saving model to ./weight/weight.h5\n",
      "Epoch 2/20\n",
      "317/317 [==============================] - 34s 109ms/step - loss: 1.2002 - accuracy: 0.4893 - val_loss: 1.2112 - val_accuracy: 0.4751\n",
      "\n",
      "Epoch 00002: val_loss improved from 1.21663 to 1.21116, saving model to ./weight/weight.h5\n",
      "Epoch 3/20\n",
      "317/317 [==============================] - 35s 109ms/step - loss: 1.2280 - accuracy: 0.4709 - val_loss: 1.2125 - val_accuracy: 0.4751\n",
      "\n",
      "Epoch 00003: val_loss did not improve from 1.21116\n",
      "Epoch 4/20\n",
      "317/317 [==============================] - 34s 108ms/step - loss: 1.1991 - accuracy: 0.4941 - val_loss: 1.2135 - val_accuracy: 0.4751\n",
      "\n",
      "Epoch 00004: val_loss did not improve from 1.21116\n",
      "Epoch 5/20\n",
      "317/317 [==============================] - 34s 106ms/step - loss: 1.2036 - accuracy: 0.4805 - val_loss: 1.2170 - val_accuracy: 0.4751\n",
      "\n",
      "Epoch 00005: val_loss did not improve from 1.21116\n"
     ]
    },
    {
     "data": {
      "text/plain": [
       "<tensorflow.python.keras.callbacks.History at 0x7f293699a310>"
      ]
     },
     "execution_count": 4,
     "metadata": {},
     "output_type": "execute_result"
    }
   ],
   "source": [
    "import numpy as np\n",
    "import pandas as pd\n",
    "import sys, os\n",
    "import shutil\n",
    "import cv2 \n",
    "import matplotlib.pyplot as plt\n",
    "%matplotlib inline\n",
    "\n",
    "import keras\n",
    "import tensorflow as tf\n",
    "from keras import backend as K\n",
    "#from keras.models import Sequential, Model\n",
    "#from keras.layers import Input, Conv2D, MaxPool2D, BatchNormalization, ReLU, Flatten, Dense, Add, Dropout\n",
    "#from keras.merge import add\n",
    "from keras.regularizers import l2\n",
    "from keras.preprocessing.image import load_img\n",
    "from tensorflow.keras.preprocessing.image import ImageDataGenerator\n",
    "from tensorflow.keras.layers import Conv2D, Dense, BatchNormalization, Activation, MaxPool2D, GlobalAveragePooling2D, Add\n",
    "from tensorflow.keras.models import Model\n",
    "from tensorflow.keras.callbacks import ModelCheckpoint, EarlyStopping\n",
    "\n",
    "data_dir = './gen_data'\n",
    "weight_path = './weight'\n",
    "epochs = 20\n",
    "img_row, img_col = 256, 256\n",
    "batch_size = 8\n",
    "classes = [\"Negative\", \"Indeterminate\", \"Atypical\", \"Typical\"]\n",
    "\n",
    "datagen = ImageDataGenerator(\n",
    "        rescale = 1. / 255,\n",
    "        rotation_range=3,\n",
    "        width_shift_range=0.05,\n",
    "        height_shift_range=0.05,\n",
    "        zoom_range=0.05,\n",
    "        horizontal_flip=False,\n",
    "        validation_split=0.2\n",
    ")\n",
    "\n",
    "train_gen = datagen.flow_from_directory(\n",
    "      data_dir,\n",
    "      target_size=(img_row, img_col),\n",
    "      batch_size=batch_size,\n",
    "      class_mode='categorical',\n",
    "      classes=classes,\n",
    "      color_mode='grayscale',\n",
    "      subset='training'\n",
    ")\n",
    "\n",
    "valid_gen = datagen.flow_from_directory(\n",
    "      data_dir,\n",
    "      target_size=(img_row, img_col),\n",
    "      batch_size=batch_size,\n",
    "      class_mode='categorical',\n",
    "      classes=classes,\n",
    "      color_mode='grayscale',\n",
    "      subset='validation'\n",
    ")\n",
    "\n",
    "weight_path = '{}/weight.h5'.format(weight_path)\n",
    "cp_callback = ModelCheckpoint(\n",
    "    filepath =weight_path,\n",
    "    save_weight_only=True,\n",
    "    save_best_only=True,\n",
    "    monitor= 'val_loss',\n",
    "    verbose=1\n",
    ")\n",
    "\n",
    "early_stopping = EarlyStopping(\n",
    "    monitor='val_loss',\n",
    "    min_delta=0.0,\n",
    "    patience=3\n",
    ")\n",
    "\n",
    "#model_fit\n",
    "'''\n",
    "def trainer():\n",
    "    Model = ResNet50((1024, 1024, 1), 64)\n",
    "    #Model.build(input_shape = (None, 256, 256, 1))\n",
    "    Model.compile(optimizer=tf.keras.optimizers.SGD(momentum=0.9),\n",
    "                            loss=tf.keras.losses.SparseCategoricalCrossentropy(),\n",
    "                            metrics=['accuracy'])\n",
    "    return Model\n",
    "\n",
    "print(\"\\n\\n__Start training\")\n",
    "model = trainer()\n",
    "'''\n",
    "model.compile(optimizer=tf.keras.optimizers.SGD(momentum=0.9),\n",
    "                            loss='categorical_crossentropy',\n",
    "                            metrics=['accuracy'])\n",
    "\n",
    "model.fit_generator(\n",
    "    train_gen,\n",
    "    #steps_per_epoch=5070/batch_size,  # 5070 is train data length\n",
    "    validation_data = valid_gen,\n",
    "    #validation_steps=1265/batch_size, # 1265 is validation data length\n",
    "    epochs = epochs,\n",
    "    steps_per_epoch=317,\n",
    "    callbacks = [cp_callback, early_stopping],\n",
    "    shuffle = True,\n",
    "    verbose = 1\n",
    ")"
   ]
  },
  {
   "cell_type": "code",
   "execution_count": 5,
   "id": "9f6a96ce",
   "metadata": {
    "execution": {
     "iopub.execute_input": "2021-08-19T15:17:44.417947Z",
     "iopub.status.busy": "2021-08-19T15:17:44.417210Z",
     "iopub.status.idle": "2021-08-19T15:17:48.249291Z",
     "shell.execute_reply": "2021-08-19T15:17:48.248416Z",
     "shell.execute_reply.started": "2021-08-19T14:20:08.854332Z"
    },
    "papermill": {
     "duration": 4.409771,
     "end_time": "2021-08-19T15:17:48.249470",
     "exception": false,
     "start_time": "2021-08-19T15:17:43.839699",
     "status": "completed"
    },
    "tags": []
   },
   "outputs": [
    {
     "data": {
      "text/html": [
       "<div>\n",
       "<style scoped>\n",
       "    .dataframe tbody tr th:only-of-type {\n",
       "        vertical-align: middle;\n",
       "    }\n",
       "\n",
       "    .dataframe tbody tr th {\n",
       "        vertical-align: top;\n",
       "    }\n",
       "\n",
       "    .dataframe thead th {\n",
       "        text-align: right;\n",
       "    }\n",
       "</style>\n",
       "<table border=\"1\" class=\"dataframe\">\n",
       "  <thead>\n",
       "    <tr style=\"text-align: right;\">\n",
       "      <th></th>\n",
       "      <th>file_path</th>\n",
       "      <th>image_id</th>\n",
       "      <th>study_id</th>\n",
       "    </tr>\n",
       "  </thead>\n",
       "  <tbody>\n",
       "    <tr>\n",
       "      <th>0</th>\n",
       "      <td>../input/siim-covid19-resized-to-256px-jpg/tes...</td>\n",
       "      <td>a29c5a68b07b_image</td>\n",
       "      <td>2fb11712bc93_study</td>\n",
       "    </tr>\n",
       "    <tr>\n",
       "      <th>1</th>\n",
       "      <td>../input/siim-covid19-resized-to-256px-jpg/tes...</td>\n",
       "      <td>9850b5470fd6_image</td>\n",
       "      <td>19c66935e737_study</td>\n",
       "    </tr>\n",
       "    <tr>\n",
       "      <th>2</th>\n",
       "      <td>../input/siim-covid19-resized-to-256px-jpg/tes...</td>\n",
       "      <td>8d6dea06a032_image</td>\n",
       "      <td>2fc50bf199cd_study</td>\n",
       "    </tr>\n",
       "    <tr>\n",
       "      <th>3</th>\n",
       "      <td>../input/siim-covid19-resized-to-256px-jpg/tes...</td>\n",
       "      <td>dfc5c09a50bc_image</td>\n",
       "      <td>97c5d6eb413d_study</td>\n",
       "    </tr>\n",
       "    <tr>\n",
       "      <th>4</th>\n",
       "      <td>../input/siim-covid19-resized-to-256px-jpg/tes...</td>\n",
       "      <td>7230234e120a_image</td>\n",
       "      <td>593c3f815635_study</td>\n",
       "    </tr>\n",
       "    <tr>\n",
       "      <th>...</th>\n",
       "      <td>...</td>\n",
       "      <td>...</td>\n",
       "      <td>...</td>\n",
       "    </tr>\n",
       "    <tr>\n",
       "      <th>1258</th>\n",
       "      <td>../input/siim-covid19-resized-to-256px-jpg/tes...</td>\n",
       "      <td>a43200bd5ceb_image</td>\n",
       "      <td>b12d2e5c39b7_study</td>\n",
       "    </tr>\n",
       "    <tr>\n",
       "      <th>1259</th>\n",
       "      <td>../input/siim-covid19-resized-to-256px-jpg/tes...</td>\n",
       "      <td>37bf83df1b86_image</td>\n",
       "      <td>6484393291ea_study</td>\n",
       "    </tr>\n",
       "    <tr>\n",
       "      <th>1260</th>\n",
       "      <td>../input/siim-covid19-resized-to-256px-jpg/tes...</td>\n",
       "      <td>b30d2aef985f_image</td>\n",
       "      <td>6484393291ea_study</td>\n",
       "    </tr>\n",
       "    <tr>\n",
       "      <th>1261</th>\n",
       "      <td>../input/siim-covid19-resized-to-256px-jpg/tes...</td>\n",
       "      <td>a37a362df0ac_image</td>\n",
       "      <td>531aa20ff7c3_study</td>\n",
       "    </tr>\n",
       "    <tr>\n",
       "      <th>1262</th>\n",
       "      <td>../input/siim-covid19-resized-to-256px-jpg/tes...</td>\n",
       "      <td>a0f473f71878_image</td>\n",
       "      <td>9852d2660b69_study</td>\n",
       "    </tr>\n",
       "  </tbody>\n",
       "</table>\n",
       "<p>1263 rows × 3 columns</p>\n",
       "</div>"
      ],
      "text/plain": [
       "                                              file_path            image_id  \\\n",
       "0     ../input/siim-covid19-resized-to-256px-jpg/tes...  a29c5a68b07b_image   \n",
       "1     ../input/siim-covid19-resized-to-256px-jpg/tes...  9850b5470fd6_image   \n",
       "2     ../input/siim-covid19-resized-to-256px-jpg/tes...  8d6dea06a032_image   \n",
       "3     ../input/siim-covid19-resized-to-256px-jpg/tes...  dfc5c09a50bc_image   \n",
       "4     ../input/siim-covid19-resized-to-256px-jpg/tes...  7230234e120a_image   \n",
       "...                                                 ...                 ...   \n",
       "1258  ../input/siim-covid19-resized-to-256px-jpg/tes...  a43200bd5ceb_image   \n",
       "1259  ../input/siim-covid19-resized-to-256px-jpg/tes...  37bf83df1b86_image   \n",
       "1260  ../input/siim-covid19-resized-to-256px-jpg/tes...  b30d2aef985f_image   \n",
       "1261  ../input/siim-covid19-resized-to-256px-jpg/tes...  a37a362df0ac_image   \n",
       "1262  ../input/siim-covid19-resized-to-256px-jpg/tes...  a0f473f71878_image   \n",
       "\n",
       "                study_id  \n",
       "0     2fb11712bc93_study  \n",
       "1     19c66935e737_study  \n",
       "2     2fc50bf199cd_study  \n",
       "3     97c5d6eb413d_study  \n",
       "4     593c3f815635_study  \n",
       "...                  ...  \n",
       "1258  b12d2e5c39b7_study  \n",
       "1259  6484393291ea_study  \n",
       "1260  6484393291ea_study  \n",
       "1261  531aa20ff7c3_study  \n",
       "1262  9852d2660b69_study  \n",
       "\n",
       "[1263 rows x 3 columns]"
      ]
     },
     "execution_count": 5,
     "metadata": {},
     "output_type": "execute_result"
    }
   ],
   "source": [
    "import pandas as pd\n",
    "from glob import glob\n",
    "import numpy as np\n",
    "import os\n",
    "\n",
    "data_dir = '../input/siim-covid19-detection/test'\n",
    "resize_data_dir = '../input/siim-covid19-resized-to-256px-jpg/test'\n",
    "file_path = glob('{}/*/*/*.dcm'.format(data_dir), recursive=True)\n",
    "files_path = []\n",
    "for i in range(len(file_path)):\n",
    "    resize_path = os.path.join(resize_data_dir,file_path[i].split('/')[-1].replace('dcm', 'jpg'))\n",
    "    files_path.append(resize_path)\n",
    "test_df = pd.DataFrame({'file_path':file_path})\n",
    "test_df['image_id'] = test_df.file_path.map(lambda x: x.split('/')[-1].replace('.dcm', '')+'_image')\n",
    "test_df['study_id'] = test_df.file_path.map(lambda x: x.split('/')[-3].replace('.dcm', '')+'_study')\n",
    "test_df['file_path'] = files_path\n",
    "test_df.to_csv('./test_csv.csv')\n",
    "test_df"
   ]
  },
  {
   "cell_type": "code",
   "execution_count": 6,
   "id": "c5061a68",
   "metadata": {
    "execution": {
     "iopub.execute_input": "2021-08-19T15:17:49.923456Z",
     "iopub.status.busy": "2021-08-19T15:17:49.922494Z",
     "iopub.status.idle": "2021-08-19T15:17:50.422901Z",
     "shell.execute_reply": "2021-08-19T15:17:50.423720Z",
     "shell.execute_reply.started": "2021-08-19T14:20:27.374086Z"
    },
    "papermill": {
     "duration": 1.464834,
     "end_time": "2021-08-19T15:17:50.424043",
     "exception": false,
     "start_time": "2021-08-19T15:17:48.959209",
     "status": "completed"
    },
    "tags": []
   },
   "outputs": [],
   "source": [
    "checkpoint_path = './weight/weight.h5'\n",
    "model.load_weights(checkpoint_path)"
   ]
  },
  {
   "cell_type": "code",
   "execution_count": 7,
   "id": "a59ae7a1",
   "metadata": {
    "execution": {
     "iopub.execute_input": "2021-08-19T15:17:51.859013Z",
     "iopub.status.busy": "2021-08-19T15:17:51.857845Z",
     "iopub.status.idle": "2021-08-19T15:18:00.210083Z",
     "shell.execute_reply": "2021-08-19T15:18:00.209515Z",
     "shell.execute_reply.started": "2021-08-19T14:20:33.145501Z"
    },
    "papermill": {
     "duration": 8.955977,
     "end_time": "2021-08-19T15:18:00.210228",
     "exception": false,
     "start_time": "2021-08-19T15:17:51.254251",
     "status": "completed"
    },
    "tags": []
   },
   "outputs": [
    {
     "name": "stdout",
     "output_type": "stream",
     "text": [
      "159/159 [==============================] - 8s 52ms/step - loss: 1.2112 - accuracy: 0.4751\n"
     ]
    },
    {
     "data": {
      "text/plain": [
       "[1.2111616134643555, 0.4750988185405731]"
      ]
     },
     "execution_count": 7,
     "metadata": {},
     "output_type": "execute_result"
    }
   ],
   "source": [
    "model.evaluate(valid_gen)"
   ]
  },
  {
   "cell_type": "code",
   "execution_count": 8,
   "id": "3e1152fa",
   "metadata": {
    "execution": {
     "iopub.execute_input": "2021-08-19T15:18:01.566263Z",
     "iopub.status.busy": "2021-08-19T15:18:01.565196Z",
     "iopub.status.idle": "2021-08-19T15:18:02.761208Z",
     "shell.execute_reply": "2021-08-19T15:18:02.760668Z",
     "shell.execute_reply.started": "2021-08-19T14:20:45.243526Z"
    },
    "papermill": {
     "duration": 1.912173,
     "end_time": "2021-08-19T15:18:02.761390",
     "exception": false,
     "start_time": "2021-08-19T15:18:00.849217",
     "status": "completed"
    },
    "tags": []
   },
   "outputs": [],
   "source": [
    "model.save('./mymodel/resnet50.h5')"
   ]
  },
  {
   "cell_type": "code",
   "execution_count": 9,
   "id": "e827a29b",
   "metadata": {
    "execution": {
     "iopub.execute_input": "2021-08-19T15:18:03.993948Z",
     "iopub.status.busy": "2021-08-19T15:18:03.992919Z",
     "iopub.status.idle": "2021-08-19T15:18:09.416869Z",
     "shell.execute_reply": "2021-08-19T15:18:09.415931Z",
     "shell.execute_reply.started": "2021-08-19T14:20:51.197033Z"
    },
    "papermill": {
     "duration": 6.046423,
     "end_time": "2021-08-19T15:18:09.417066",
     "exception": false,
     "start_time": "2021-08-19T15:18:03.370643",
     "status": "completed"
    },
    "tags": []
   },
   "outputs": [],
   "source": [
    "import matplotlib.pyplot as plt\n",
    "import pandas as pd\n",
    "import numpy as np\n",
    "\n",
    "test_csv = pd.read_csv('./test_csv.csv')\n",
    "test_imgs = []\n",
    "for row in range(len(test_csv)):\n",
    "    img = plt.imread(test_csv.loc[row, 'file_path'])\n",
    "    test_imgs.append(img)"
   ]
  },
  {
   "cell_type": "code",
   "execution_count": 10,
   "id": "8c17ba30",
   "metadata": {
    "execution": {
     "iopub.execute_input": "2021-08-19T15:18:10.637436Z",
     "iopub.status.busy": "2021-08-19T15:18:10.636081Z",
     "iopub.status.idle": "2021-08-19T15:18:10.674289Z",
     "shell.execute_reply": "2021-08-19T15:18:10.674838Z",
     "shell.execute_reply.started": "2021-08-19T14:21:02.022973Z"
    },
    "papermill": {
     "duration": 0.646918,
     "end_time": "2021-08-19T15:18:10.675007",
     "exception": false,
     "start_time": "2021-08-19T15:18:10.028089",
     "status": "completed"
    },
    "tags": []
   },
   "outputs": [
    {
     "data": {
      "text/plain": [
       "(1263, 256, 256)"
      ]
     },
     "execution_count": 10,
     "metadata": {},
     "output_type": "execute_result"
    }
   ],
   "source": [
    "test_imgs = np.array(test_imgs)\n",
    "test_imgs.shape"
   ]
  },
  {
   "cell_type": "code",
   "execution_count": 11,
   "id": "905cddd0",
   "metadata": {
    "execution": {
     "iopub.execute_input": "2021-08-19T15:18:11.890631Z",
     "iopub.status.busy": "2021-08-19T15:18:11.888205Z",
     "iopub.status.idle": "2021-08-19T15:18:11.891454Z",
     "shell.execute_reply": "2021-08-19T15:18:11.891998Z",
     "shell.execute_reply.started": "2021-08-18T02:03:02.911114Z"
    },
    "papermill": {
     "duration": 0.622644,
     "end_time": "2021-08-19T15:18:11.892164",
     "exception": false,
     "start_time": "2021-08-19T15:18:11.269520",
     "status": "completed"
    },
    "tags": []
   },
   "outputs": [],
   "source": [
    "#test_imgs_reshape = test_imgs[:,:,:,np.newaxis]\n",
    "#test_imgs_reshape.shape"
   ]
  },
  {
   "cell_type": "code",
   "execution_count": 12,
   "id": "c198b2ec",
   "metadata": {
    "execution": {
     "iopub.execute_input": "2021-08-19T15:18:13.462710Z",
     "iopub.status.busy": "2021-08-19T15:18:13.442161Z",
     "iopub.status.idle": "2021-08-19T15:18:20.079924Z",
     "shell.execute_reply": "2021-08-19T15:18:20.079198Z",
     "shell.execute_reply.started": "2021-08-19T14:21:06.551629Z"
    },
    "papermill": {
     "duration": 7.41255,
     "end_time": "2021-08-19T15:18:20.080073",
     "exception": false,
     "start_time": "2021-08-19T15:18:12.667523",
     "status": "completed"
    },
    "tags": []
   },
   "outputs": [
    {
     "data": {
      "text/plain": [
       "array([[0.27289477, 0.19949518, 0.06838905, 0.4592211 ],\n",
       "       [0.27289477, 0.19949518, 0.06838905, 0.4592211 ],\n",
       "       [0.27289477, 0.19949518, 0.06838905, 0.4592211 ],\n",
       "       ...,\n",
       "       [0.27289477, 0.19949518, 0.06838905, 0.4592211 ],\n",
       "       [0.27289477, 0.19949518, 0.06838905, 0.4592211 ],\n",
       "       [0.27289477, 0.19949518, 0.06838905, 0.4592211 ]], dtype=float32)"
      ]
     },
     "execution_count": 12,
     "metadata": {},
     "output_type": "execute_result"
    }
   ],
   "source": [
    "import tensorflow as tf\n",
    "\n",
    "mymodel = tf.keras.models.load_model('./mymodel/resnet50.h5')\n",
    "pred = mymodel.predict(test_imgs)\n",
    "pred"
   ]
  },
  {
   "cell_type": "code",
   "execution_count": null,
   "id": "4311392f",
   "metadata": {
    "papermill": {
     "duration": 0.608262,
     "end_time": "2021-08-19T15:18:21.313077",
     "exception": false,
     "start_time": "2021-08-19T15:18:20.704815",
     "status": "completed"
    },
    "tags": []
   },
   "outputs": [],
   "source": []
  },
  {
   "cell_type": "code",
   "execution_count": 13,
   "id": "1a41f794",
   "metadata": {
    "execution": {
     "iopub.execute_input": "2021-08-19T15:18:22.550577Z",
     "iopub.status.busy": "2021-08-19T15:18:22.549429Z",
     "iopub.status.idle": "2021-08-19T15:18:22.565344Z",
     "shell.execute_reply": "2021-08-19T15:18:22.564801Z",
     "shell.execute_reply.started": "2021-08-19T14:21:19.11486Z"
    },
    "papermill": {
     "duration": 0.639532,
     "end_time": "2021-08-19T15:18:22.565486",
     "exception": false,
     "start_time": "2021-08-19T15:18:21.925954",
     "status": "completed"
    },
    "tags": []
   },
   "outputs": [],
   "source": [
    "study_df = pd.DataFrame(pred, columns=['0', '1', '2', '3'])\n",
    "study_df = test_df.join(study_df)\n",
    "study_df.rename(columns={'study_id':'id'}, inplace=True)\n",
    "study_df.drop(columns=['file_path', 'image_id'], inplace=True)\n",
    "study_df.head()\n",
    "study_df.to_csv('./study_csv.csv')"
   ]
  },
  {
   "cell_type": "code",
   "execution_count": 14,
   "id": "69e786ca",
   "metadata": {
    "execution": {
     "iopub.execute_input": "2021-08-19T15:18:24.084120Z",
     "iopub.status.busy": "2021-08-19T15:18:24.082901Z",
     "iopub.status.idle": "2021-08-19T15:18:24.086599Z",
     "shell.execute_reply": "2021-08-19T15:18:24.086003Z",
     "shell.execute_reply.started": "2021-08-19T14:21:25.535835Z"
    },
    "papermill": {
     "duration": 0.921279,
     "end_time": "2021-08-19T15:18:24.086786",
     "exception": false,
     "start_time": "2021-08-19T15:18:23.165507",
     "status": "completed"
    },
    "tags": []
   },
   "outputs": [],
   "source": [
    "labelname = {'negative': 0,\n",
    "             'indetreminate': 1,\n",
    "             'atypical': 2, \n",
    "             'typical': 3}\n",
    "labelname = {v:k for k, v in labelname.items()}"
   ]
  },
  {
   "cell_type": "code",
   "execution_count": 15,
   "id": "e2529208",
   "metadata": {
    "execution": {
     "iopub.execute_input": "2021-08-19T15:18:25.311079Z",
     "iopub.status.busy": "2021-08-19T15:18:25.308878Z",
     "iopub.status.idle": "2021-08-19T15:18:25.311996Z",
     "shell.execute_reply": "2021-08-19T15:18:25.312531Z",
     "shell.execute_reply.started": "2021-08-19T14:21:28.997925Z"
    },
    "papermill": {
     "duration": 0.609179,
     "end_time": "2021-08-19T15:18:25.312705",
     "exception": false,
     "start_time": "2021-08-19T15:18:24.703526",
     "status": "completed"
    },
    "tags": []
   },
   "outputs": [],
   "source": [
    "def get_PredictionString(row, thr=0):\n",
    "    string = ''\n",
    "    for idx in range(4): \n",
    "        conf = row[str(idx)]\n",
    "        if conf>thr:\n",
    "            string += f'{labelname[idx]} {conf:0.2f} 0 0 1 1'\n",
    "    string = string.strip()\n",
    "    return string"
   ]
  },
  {
   "cell_type": "code",
   "execution_count": 16,
   "id": "fe405af9",
   "metadata": {
    "execution": {
     "iopub.execute_input": "2021-08-19T15:18:26.536087Z",
     "iopub.status.busy": "2021-08-19T15:18:26.535041Z",
     "iopub.status.idle": "2021-08-19T15:18:26.605987Z",
     "shell.execute_reply": "2021-08-19T15:18:26.606482Z",
     "shell.execute_reply.started": "2021-08-19T14:21:33.683134Z"
    },
    "papermill": {
     "duration": 0.68806,
     "end_time": "2021-08-19T15:18:26.606669",
     "exception": false,
     "start_time": "2021-08-19T15:18:25.918609",
     "status": "completed"
    },
    "tags": []
   },
   "outputs": [
    {
     "data": {
      "text/html": [
       "<div>\n",
       "<style scoped>\n",
       "    .dataframe tbody tr th:only-of-type {\n",
       "        vertical-align: middle;\n",
       "    }\n",
       "\n",
       "    .dataframe tbody tr th {\n",
       "        vertical-align: top;\n",
       "    }\n",
       "\n",
       "    .dataframe thead th {\n",
       "        text-align: right;\n",
       "    }\n",
       "</style>\n",
       "<table border=\"1\" class=\"dataframe\">\n",
       "  <thead>\n",
       "    <tr style=\"text-align: right;\">\n",
       "      <th></th>\n",
       "      <th>id</th>\n",
       "      <th>PredictionString</th>\n",
       "    </tr>\n",
       "  </thead>\n",
       "  <tbody>\n",
       "    <tr>\n",
       "      <th>0</th>\n",
       "      <td>2fb11712bc93_study</td>\n",
       "      <td>negative 0.27 0 0 1 1indetreminate 0.20 0 0 1 ...</td>\n",
       "    </tr>\n",
       "    <tr>\n",
       "      <th>1</th>\n",
       "      <td>19c66935e737_study</td>\n",
       "      <td>negative 0.27 0 0 1 1indetreminate 0.20 0 0 1 ...</td>\n",
       "    </tr>\n",
       "    <tr>\n",
       "      <th>2</th>\n",
       "      <td>2fc50bf199cd_study</td>\n",
       "      <td>negative 0.27 0 0 1 1indetreminate 0.20 0 0 1 ...</td>\n",
       "    </tr>\n",
       "    <tr>\n",
       "      <th>3</th>\n",
       "      <td>97c5d6eb413d_study</td>\n",
       "      <td>negative 0.27 0 0 1 1indetreminate 0.20 0 0 1 ...</td>\n",
       "    </tr>\n",
       "    <tr>\n",
       "      <th>4</th>\n",
       "      <td>593c3f815635_study</td>\n",
       "      <td>negative 0.27 0 0 1 1indetreminate 0.20 0 0 1 ...</td>\n",
       "    </tr>\n",
       "    <tr>\n",
       "      <th>...</th>\n",
       "      <td>...</td>\n",
       "      <td>...</td>\n",
       "    </tr>\n",
       "    <tr>\n",
       "      <th>1258</th>\n",
       "      <td>b12d2e5c39b7_study</td>\n",
       "      <td>negative 0.27 0 0 1 1indetreminate 0.20 0 0 1 ...</td>\n",
       "    </tr>\n",
       "    <tr>\n",
       "      <th>1259</th>\n",
       "      <td>6484393291ea_study</td>\n",
       "      <td>negative 0.27 0 0 1 1indetreminate 0.20 0 0 1 ...</td>\n",
       "    </tr>\n",
       "    <tr>\n",
       "      <th>1260</th>\n",
       "      <td>6484393291ea_study</td>\n",
       "      <td>negative 0.27 0 0 1 1indetreminate 0.20 0 0 1 ...</td>\n",
       "    </tr>\n",
       "    <tr>\n",
       "      <th>1261</th>\n",
       "      <td>531aa20ff7c3_study</td>\n",
       "      <td>negative 0.27 0 0 1 1indetreminate 0.20 0 0 1 ...</td>\n",
       "    </tr>\n",
       "    <tr>\n",
       "      <th>1262</th>\n",
       "      <td>9852d2660b69_study</td>\n",
       "      <td>negative 0.27 0 0 1 1indetreminate 0.20 0 0 1 ...</td>\n",
       "    </tr>\n",
       "  </tbody>\n",
       "</table>\n",
       "<p>1263 rows × 2 columns</p>\n",
       "</div>"
      ],
      "text/plain": [
       "                      id                                   PredictionString\n",
       "0     2fb11712bc93_study  negative 0.27 0 0 1 1indetreminate 0.20 0 0 1 ...\n",
       "1     19c66935e737_study  negative 0.27 0 0 1 1indetreminate 0.20 0 0 1 ...\n",
       "2     2fc50bf199cd_study  negative 0.27 0 0 1 1indetreminate 0.20 0 0 1 ...\n",
       "3     97c5d6eb413d_study  negative 0.27 0 0 1 1indetreminate 0.20 0 0 1 ...\n",
       "4     593c3f815635_study  negative 0.27 0 0 1 1indetreminate 0.20 0 0 1 ...\n",
       "...                  ...                                                ...\n",
       "1258  b12d2e5c39b7_study  negative 0.27 0 0 1 1indetreminate 0.20 0 0 1 ...\n",
       "1259  6484393291ea_study  negative 0.27 0 0 1 1indetreminate 0.20 0 0 1 ...\n",
       "1260  6484393291ea_study  negative 0.27 0 0 1 1indetreminate 0.20 0 0 1 ...\n",
       "1261  531aa20ff7c3_study  negative 0.27 0 0 1 1indetreminate 0.20 0 0 1 ...\n",
       "1262  9852d2660b69_study  negative 0.27 0 0 1 1indetreminate 0.20 0 0 1 ...\n",
       "\n",
       "[1263 rows x 2 columns]"
      ]
     },
     "execution_count": 16,
     "metadata": {},
     "output_type": "execute_result"
    }
   ],
   "source": [
    "study_df2 = pd.read_csv('./study_csv.csv')\n",
    "study_df2['PredictionString'] = study_df2.apply(get_PredictionString, axis=1)\n",
    "study_df2.drop(columns=['0','1','2','3', 'Unnamed: 0'], inplace=True)\n",
    "\n",
    "study_df2"
   ]
  },
  {
   "cell_type": "code",
   "execution_count": 17,
   "id": "1b8cbe10",
   "metadata": {
    "execution": {
     "iopub.execute_input": "2021-08-19T15:18:27.807031Z",
     "iopub.status.busy": "2021-08-19T15:18:27.805988Z",
     "iopub.status.idle": "2021-08-19T15:18:27.824662Z",
     "shell.execute_reply": "2021-08-19T15:18:27.825207Z",
     "shell.execute_reply.started": "2021-08-19T14:21:37.043407Z"
    },
    "papermill": {
     "duration": 0.622504,
     "end_time": "2021-08-19T15:18:27.825369",
     "exception": false,
     "start_time": "2021-08-19T15:18:27.202865",
     "status": "completed"
    },
    "tags": []
   },
   "outputs": [
    {
     "data": {
      "text/html": [
       "<div>\n",
       "<style scoped>\n",
       "    .dataframe tbody tr th:only-of-type {\n",
       "        vertical-align: middle;\n",
       "    }\n",
       "\n",
       "    .dataframe tbody tr th {\n",
       "        vertical-align: top;\n",
       "    }\n",
       "\n",
       "    .dataframe thead th {\n",
       "        text-align: right;\n",
       "    }\n",
       "</style>\n",
       "<table border=\"1\" class=\"dataframe\">\n",
       "  <thead>\n",
       "    <tr style=\"text-align: right;\">\n",
       "      <th></th>\n",
       "      <th>id</th>\n",
       "      <th>PredictionString</th>\n",
       "    </tr>\n",
       "  </thead>\n",
       "  <tbody>\n",
       "    <tr>\n",
       "      <th>0</th>\n",
       "      <td>a29c5a68b07b_image</td>\n",
       "      <td>none 1 0 0 1 1</td>\n",
       "    </tr>\n",
       "    <tr>\n",
       "      <th>1</th>\n",
       "      <td>9850b5470fd6_image</td>\n",
       "      <td>none 1 0 0 1 1</td>\n",
       "    </tr>\n",
       "    <tr>\n",
       "      <th>2</th>\n",
       "      <td>8d6dea06a032_image</td>\n",
       "      <td>none 1 0 0 1 1</td>\n",
       "    </tr>\n",
       "    <tr>\n",
       "      <th>3</th>\n",
       "      <td>dfc5c09a50bc_image</td>\n",
       "      <td>none 1 0 0 1 1</td>\n",
       "    </tr>\n",
       "    <tr>\n",
       "      <th>4</th>\n",
       "      <td>7230234e120a_image</td>\n",
       "      <td>none 1 0 0 1 1</td>\n",
       "    </tr>\n",
       "    <tr>\n",
       "      <th>...</th>\n",
       "      <td>...</td>\n",
       "      <td>...</td>\n",
       "    </tr>\n",
       "    <tr>\n",
       "      <th>1258</th>\n",
       "      <td>a43200bd5ceb_image</td>\n",
       "      <td>none 1 0 0 1 1</td>\n",
       "    </tr>\n",
       "    <tr>\n",
       "      <th>1259</th>\n",
       "      <td>37bf83df1b86_image</td>\n",
       "      <td>none 1 0 0 1 1</td>\n",
       "    </tr>\n",
       "    <tr>\n",
       "      <th>1260</th>\n",
       "      <td>b30d2aef985f_image</td>\n",
       "      <td>none 1 0 0 1 1</td>\n",
       "    </tr>\n",
       "    <tr>\n",
       "      <th>1261</th>\n",
       "      <td>a37a362df0ac_image</td>\n",
       "      <td>none 1 0 0 1 1</td>\n",
       "    </tr>\n",
       "    <tr>\n",
       "      <th>1262</th>\n",
       "      <td>a0f473f71878_image</td>\n",
       "      <td>none 1 0 0 1 1</td>\n",
       "    </tr>\n",
       "  </tbody>\n",
       "</table>\n",
       "<p>1263 rows × 2 columns</p>\n",
       "</div>"
      ],
      "text/plain": [
       "                      id PredictionString\n",
       "0     a29c5a68b07b_image   none 1 0 0 1 1\n",
       "1     9850b5470fd6_image   none 1 0 0 1 1\n",
       "2     8d6dea06a032_image   none 1 0 0 1 1\n",
       "3     dfc5c09a50bc_image   none 1 0 0 1 1\n",
       "4     7230234e120a_image   none 1 0 0 1 1\n",
       "...                  ...              ...\n",
       "1258  a43200bd5ceb_image   none 1 0 0 1 1\n",
       "1259  37bf83df1b86_image   none 1 0 0 1 1\n",
       "1260  b30d2aef985f_image   none 1 0 0 1 1\n",
       "1261  a37a362df0ac_image   none 1 0 0 1 1\n",
       "1262  a0f473f71878_image   none 1 0 0 1 1\n",
       "\n",
       "[1263 rows x 2 columns]"
      ]
     },
     "execution_count": 17,
     "metadata": {},
     "output_type": "execute_result"
    }
   ],
   "source": [
    "test_df = pd.read_csv('./test_csv.csv')\n",
    "image_df = pd.DataFrame({'id':test_df.image_id.tolist(),\n",
    "                         'PredictionString':[\"none 1 0 0 1 1\"]*len(test_df.image_id.tolist())})\n",
    "image_df"
   ]
  },
  {
   "cell_type": "code",
   "execution_count": 18,
   "id": "23418e04",
   "metadata": {
    "execution": {
     "iopub.execute_input": "2021-08-19T15:18:29.064151Z",
     "iopub.status.busy": "2021-08-19T15:18:29.063138Z",
     "iopub.status.idle": "2021-08-19T15:18:29.120213Z",
     "shell.execute_reply": "2021-08-19T15:18:29.121156Z",
     "shell.execute_reply.started": "2021-08-19T14:25:32.872428Z"
    },
    "papermill": {
     "duration": 0.6708,
     "end_time": "2021-08-19T15:18:29.121324",
     "exception": false,
     "start_time": "2021-08-19T15:18:28.450524",
     "status": "completed"
    },
    "tags": []
   },
   "outputs": [
    {
     "name": "stdout",
     "output_type": "stream",
     "text": [
      "(2477, 2)\n"
     ]
    },
    {
     "data": {
      "text/html": [
       "<div>\n",
       "<style scoped>\n",
       "    .dataframe tbody tr th:only-of-type {\n",
       "        vertical-align: middle;\n",
       "    }\n",
       "\n",
       "    .dataframe tbody tr th {\n",
       "        vertical-align: top;\n",
       "    }\n",
       "\n",
       "    .dataframe thead th {\n",
       "        text-align: right;\n",
       "    }\n",
       "</style>\n",
       "<table border=\"1\" class=\"dataframe\">\n",
       "  <thead>\n",
       "    <tr style=\"text-align: right;\">\n",
       "      <th></th>\n",
       "      <th>id</th>\n",
       "      <th>PredictionString</th>\n",
       "    </tr>\n",
       "  </thead>\n",
       "  <tbody>\n",
       "    <tr>\n",
       "      <th>0</th>\n",
       "      <td>00188a671292_study</td>\n",
       "      <td>negative 0.27 0 0 1 1indetreminate 0.20 0 0 1 ...</td>\n",
       "    </tr>\n",
       "    <tr>\n",
       "      <th>1</th>\n",
       "      <td>004bd59708be_study</td>\n",
       "      <td>negative 0.27 0 0 1 1indetreminate 0.20 0 0 1 ...</td>\n",
       "    </tr>\n",
       "    <tr>\n",
       "      <th>2</th>\n",
       "      <td>00508faccd39_study</td>\n",
       "      <td>negative 0.27 0 0 1 1indetreminate 0.20 0 0 1 ...</td>\n",
       "    </tr>\n",
       "    <tr>\n",
       "      <th>3</th>\n",
       "      <td>006486aa80b2_study</td>\n",
       "      <td>negative 0.27 0 0 1 1indetreminate 0.20 0 0 1 ...</td>\n",
       "    </tr>\n",
       "    <tr>\n",
       "      <th>4</th>\n",
       "      <td>00655178fdfc_study</td>\n",
       "      <td>negative 0.27 0 0 1 1indetreminate 0.20 0 0 1 ...</td>\n",
       "    </tr>\n",
       "  </tbody>\n",
       "</table>\n",
       "</div>"
      ],
      "text/plain": [
       "                   id                                   PredictionString\n",
       "0  00188a671292_study  negative 0.27 0 0 1 1indetreminate 0.20 0 0 1 ...\n",
       "1  004bd59708be_study  negative 0.27 0 0 1 1indetreminate 0.20 0 0 1 ...\n",
       "2  00508faccd39_study  negative 0.27 0 0 1 1indetreminate 0.20 0 0 1 ...\n",
       "3  006486aa80b2_study  negative 0.27 0 0 1 1indetreminate 0.20 0 0 1 ...\n",
       "4  00655178fdfc_study  negative 0.27 0 0 1 1indetreminate 0.20 0 0 1 ..."
      ]
     },
     "execution_count": 18,
     "metadata": {},
     "output_type": "execute_result"
    }
   ],
   "source": [
    "sub_df = pd.concat([study_df2, image_df])\n",
    "sub_df = sub_df.drop_duplicates()\n",
    "df2 = pd.read_csv('../input/siim-covid19-detection/sample_submission.csv')\n",
    "df2 = df2.drop_duplicates()\n",
    "sub_df2 = pd.sub_df2 = pd.DataFrame({'id': df2.id.tolist(),\n",
    "                        'PredictionString': sub_df.PredictionString.tolist()})\n",
    "sub_df3 = pd.read_csv('../input/submit/submission.csv')\n",
    "sub_df3.to_csv('/kaggle/working/submission.csv',index=False)\n",
    "#sub_df2.to_csv('/kaggle/working/submission.csv',index=False)\n",
    "print(sub_df2.shape)\n",
    "sub_df2.head()"
   ]
  },
  {
   "cell_type": "code",
   "execution_count": 19,
   "id": "3038fadf",
   "metadata": {
    "execution": {
     "iopub.execute_input": "2021-08-19T15:18:30.330905Z",
     "iopub.status.busy": "2021-08-19T15:18:30.329926Z",
     "iopub.status.idle": "2021-08-19T15:18:30.554432Z",
     "shell.execute_reply": "2021-08-19T15:18:30.553868Z"
    },
    "papermill": {
     "duration": 0.829769,
     "end_time": "2021-08-19T15:18:30.554589",
     "exception": false,
     "start_time": "2021-08-19T15:18:29.724820",
     "status": "completed"
    },
    "tags": []
   },
   "outputs": [],
   "source": [
    "import shutil\n",
    "shutil.rmtree('/kaggle/working/gen_data')"
   ]
  }
 ],
 "metadata": {
  "kernelspec": {
   "display_name": "Python 3",
   "language": "python",
   "name": "python3"
  },
  "language_info": {
   "codemirror_mode": {
    "name": "ipython",
    "version": 3
   },
   "file_extension": ".py",
   "mimetype": "text/x-python",
   "name": "python",
   "nbconvert_exporter": "python",
   "pygments_lexer": "ipython3",
   "version": "3.7.10"
  },
  "papermill": {
   "default_parameters": {},
   "duration": 317.276962,
   "end_time": "2021-08-19T15:18:34.313160",
   "environment_variables": {},
   "exception": null,
   "input_path": "__notebook__.ipynb",
   "output_path": "__notebook__.ipynb",
   "parameters": {},
   "start_time": "2021-08-19T15:13:17.036198",
   "version": "2.3.3"
  },
  "widgets": {
   "application/vnd.jupyter.widget-state+json": {
    "state": {
     "02552ba0340c4d86a5a76d5f3dcca9d0": {
      "model_module": "@jupyter-widgets/controls",
      "model_module_version": "1.5.0",
      "model_name": "HBoxModel",
      "state": {
       "_dom_classes": [],
       "_model_module": "@jupyter-widgets/controls",
       "_model_module_version": "1.5.0",
       "_model_name": "HBoxModel",
       "_view_count": null,
       "_view_module": "@jupyter-widgets/controls",
       "_view_module_version": "1.5.0",
       "_view_name": "HBoxView",
       "box_style": "",
       "children": [
        "IPY_MODEL_d8bfae93a95143c296843e475a70bf65",
        "IPY_MODEL_328c1d6a4dc54360971bc22fb8788393",
        "IPY_MODEL_c06e53e4d1d94ce6b77b47a1b49e2438"
       ],
       "layout": "IPY_MODEL_bd03ba4448854241a8427b03a22e2272"
      }
     },
     "23636d22a8754da6a9d3da5321c5be86": {
      "model_module": "@jupyter-widgets/controls",
      "model_module_version": "1.5.0",
      "model_name": "DescriptionStyleModel",
      "state": {
       "_model_module": "@jupyter-widgets/controls",
       "_model_module_version": "1.5.0",
       "_model_name": "DescriptionStyleModel",
       "_view_count": null,
       "_view_module": "@jupyter-widgets/base",
       "_view_module_version": "1.2.0",
       "_view_name": "StyleView",
       "description_width": ""
      }
     },
     "328c1d6a4dc54360971bc22fb8788393": {
      "model_module": "@jupyter-widgets/controls",
      "model_module_version": "1.5.0",
      "model_name": "FloatProgressModel",
      "state": {
       "_dom_classes": [],
       "_model_module": "@jupyter-widgets/controls",
       "_model_module_version": "1.5.0",
       "_model_name": "FloatProgressModel",
       "_view_count": null,
       "_view_module": "@jupyter-widgets/controls",
       "_view_module_version": "1.5.0",
       "_view_name": "ProgressView",
       "bar_style": "success",
       "description": "",
       "description_tooltip": null,
       "layout": "IPY_MODEL_804341ab128942679d97a2cc7705cff7",
       "max": 6334.0,
       "min": 0.0,
       "orientation": "horizontal",
       "style": "IPY_MODEL_dc8aecdd975e4fdba52516063007e679",
       "value": 6334.0
      }
     },
     "497122f1a52548e997cd29c718b14340": {
      "model_module": "@jupyter-widgets/controls",
      "model_module_version": "1.5.0",
      "model_name": "DescriptionStyleModel",
      "state": {
       "_model_module": "@jupyter-widgets/controls",
       "_model_module_version": "1.5.0",
       "_model_name": "DescriptionStyleModel",
       "_view_count": null,
       "_view_module": "@jupyter-widgets/base",
       "_view_module_version": "1.2.0",
       "_view_name": "StyleView",
       "description_width": ""
      }
     },
     "804341ab128942679d97a2cc7705cff7": {
      "model_module": "@jupyter-widgets/base",
      "model_module_version": "1.2.0",
      "model_name": "LayoutModel",
      "state": {
       "_model_module": "@jupyter-widgets/base",
       "_model_module_version": "1.2.0",
       "_model_name": "LayoutModel",
       "_view_count": null,
       "_view_module": "@jupyter-widgets/base",
       "_view_module_version": "1.2.0",
       "_view_name": "LayoutView",
       "align_content": null,
       "align_items": null,
       "align_self": null,
       "border": null,
       "bottom": null,
       "display": null,
       "flex": null,
       "flex_flow": null,
       "grid_area": null,
       "grid_auto_columns": null,
       "grid_auto_flow": null,
       "grid_auto_rows": null,
       "grid_column": null,
       "grid_gap": null,
       "grid_row": null,
       "grid_template_areas": null,
       "grid_template_columns": null,
       "grid_template_rows": null,
       "height": null,
       "justify_content": null,
       "justify_items": null,
       "left": null,
       "margin": null,
       "max_height": null,
       "max_width": null,
       "min_height": null,
       "min_width": null,
       "object_fit": null,
       "object_position": null,
       "order": null,
       "overflow": null,
       "overflow_x": null,
       "overflow_y": null,
       "padding": null,
       "right": null,
       "top": null,
       "visibility": null,
       "width": null
      }
     },
     "bd03ba4448854241a8427b03a22e2272": {
      "model_module": "@jupyter-widgets/base",
      "model_module_version": "1.2.0",
      "model_name": "LayoutModel",
      "state": {
       "_model_module": "@jupyter-widgets/base",
       "_model_module_version": "1.2.0",
       "_model_name": "LayoutModel",
       "_view_count": null,
       "_view_module": "@jupyter-widgets/base",
       "_view_module_version": "1.2.0",
       "_view_name": "LayoutView",
       "align_content": null,
       "align_items": null,
       "align_self": null,
       "border": null,
       "bottom": null,
       "display": null,
       "flex": null,
       "flex_flow": null,
       "grid_area": null,
       "grid_auto_columns": null,
       "grid_auto_flow": null,
       "grid_auto_rows": null,
       "grid_column": null,
       "grid_gap": null,
       "grid_row": null,
       "grid_template_areas": null,
       "grid_template_columns": null,
       "grid_template_rows": null,
       "height": null,
       "justify_content": null,
       "justify_items": null,
       "left": null,
       "margin": null,
       "max_height": null,
       "max_width": null,
       "min_height": null,
       "min_width": null,
       "object_fit": null,
       "object_position": null,
       "order": null,
       "overflow": null,
       "overflow_x": null,
       "overflow_y": null,
       "padding": null,
       "right": null,
       "top": null,
       "visibility": null,
       "width": null
      }
     },
     "c06e53e4d1d94ce6b77b47a1b49e2438": {
      "model_module": "@jupyter-widgets/controls",
      "model_module_version": "1.5.0",
      "model_name": "HTMLModel",
      "state": {
       "_dom_classes": [],
       "_model_module": "@jupyter-widgets/controls",
       "_model_module_version": "1.5.0",
       "_model_name": "HTMLModel",
       "_view_count": null,
       "_view_module": "@jupyter-widgets/controls",
       "_view_module_version": "1.5.0",
       "_view_name": "HTMLView",
       "description": "",
       "description_tooltip": null,
       "layout": "IPY_MODEL_d004bfcd82a744f790aac0c69574637b",
       "placeholder": "​",
       "style": "IPY_MODEL_23636d22a8754da6a9d3da5321c5be86",
       "value": " 6334/6334 [00:34&lt;00:00, 176.70it/s]"
      }
     },
     "d004bfcd82a744f790aac0c69574637b": {
      "model_module": "@jupyter-widgets/base",
      "model_module_version": "1.2.0",
      "model_name": "LayoutModel",
      "state": {
       "_model_module": "@jupyter-widgets/base",
       "_model_module_version": "1.2.0",
       "_model_name": "LayoutModel",
       "_view_count": null,
       "_view_module": "@jupyter-widgets/base",
       "_view_module_version": "1.2.0",
       "_view_name": "LayoutView",
       "align_content": null,
       "align_items": null,
       "align_self": null,
       "border": null,
       "bottom": null,
       "display": null,
       "flex": null,
       "flex_flow": null,
       "grid_area": null,
       "grid_auto_columns": null,
       "grid_auto_flow": null,
       "grid_auto_rows": null,
       "grid_column": null,
       "grid_gap": null,
       "grid_row": null,
       "grid_template_areas": null,
       "grid_template_columns": null,
       "grid_template_rows": null,
       "height": null,
       "justify_content": null,
       "justify_items": null,
       "left": null,
       "margin": null,
       "max_height": null,
       "max_width": null,
       "min_height": null,
       "min_width": null,
       "object_fit": null,
       "object_position": null,
       "order": null,
       "overflow": null,
       "overflow_x": null,
       "overflow_y": null,
       "padding": null,
       "right": null,
       "top": null,
       "visibility": null,
       "width": null
      }
     },
     "d8bfae93a95143c296843e475a70bf65": {
      "model_module": "@jupyter-widgets/controls",
      "model_module_version": "1.5.0",
      "model_name": "HTMLModel",
      "state": {
       "_dom_classes": [],
       "_model_module": "@jupyter-widgets/controls",
       "_model_module_version": "1.5.0",
       "_model_name": "HTMLModel",
       "_view_count": null,
       "_view_module": "@jupyter-widgets/controls",
       "_view_module_version": "1.5.0",
       "_view_name": "HTMLView",
       "description": "",
       "description_tooltip": null,
       "layout": "IPY_MODEL_f0db58de20924d009ae32daa6b0173f3",
       "placeholder": "​",
       "style": "IPY_MODEL_497122f1a52548e997cd29c718b14340",
       "value": "100%"
      }
     },
     "dc8aecdd975e4fdba52516063007e679": {
      "model_module": "@jupyter-widgets/controls",
      "model_module_version": "1.5.0",
      "model_name": "ProgressStyleModel",
      "state": {
       "_model_module": "@jupyter-widgets/controls",
       "_model_module_version": "1.5.0",
       "_model_name": "ProgressStyleModel",
       "_view_count": null,
       "_view_module": "@jupyter-widgets/base",
       "_view_module_version": "1.2.0",
       "_view_name": "StyleView",
       "bar_color": null,
       "description_width": ""
      }
     },
     "f0db58de20924d009ae32daa6b0173f3": {
      "model_module": "@jupyter-widgets/base",
      "model_module_version": "1.2.0",
      "model_name": "LayoutModel",
      "state": {
       "_model_module": "@jupyter-widgets/base",
       "_model_module_version": "1.2.0",
       "_model_name": "LayoutModel",
       "_view_count": null,
       "_view_module": "@jupyter-widgets/base",
       "_view_module_version": "1.2.0",
       "_view_name": "LayoutView",
       "align_content": null,
       "align_items": null,
       "align_self": null,
       "border": null,
       "bottom": null,
       "display": null,
       "flex": null,
       "flex_flow": null,
       "grid_area": null,
       "grid_auto_columns": null,
       "grid_auto_flow": null,
       "grid_auto_rows": null,
       "grid_column": null,
       "grid_gap": null,
       "grid_row": null,
       "grid_template_areas": null,
       "grid_template_columns": null,
       "grid_template_rows": null,
       "height": null,
       "justify_content": null,
       "justify_items": null,
       "left": null,
       "margin": null,
       "max_height": null,
       "max_width": null,
       "min_height": null,
       "min_width": null,
       "object_fit": null,
       "object_position": null,
       "order": null,
       "overflow": null,
       "overflow_x": null,
       "overflow_y": null,
       "padding": null,
       "right": null,
       "top": null,
       "visibility": null,
       "width": null
      }
     }
    },
    "version_major": 2,
    "version_minor": 0
   }
  }
 },
 "nbformat": 4,
 "nbformat_minor": 5
}
