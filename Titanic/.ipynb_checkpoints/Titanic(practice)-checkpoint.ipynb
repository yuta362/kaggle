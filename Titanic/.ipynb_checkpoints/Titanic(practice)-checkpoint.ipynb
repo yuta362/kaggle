{
 "cells": [
  {
   "cell_type": "code",
   "execution_count": 66,
   "metadata": {},
   "outputs": [
    {
     "name": "stdout",
     "output_type": "stream",
     "text": [
      "Info for Training Data\n",
      "<class 'pandas.core.frame.DataFrame'>\n",
      "RangeIndex: 891 entries, 0 to 890\n",
      "Data columns (total 12 columns):\n",
      "PassengerId    891 non-null int64\n",
      "Survived       891 non-null int64\n",
      "Pclass         891 non-null int64\n",
      "Name           891 non-null object\n",
      "Sex            891 non-null object\n",
      "Age            714 non-null float64\n",
      "SibSp          891 non-null int64\n",
      "Parch          891 non-null int64\n",
      "Ticket         891 non-null object\n",
      "Fare           891 non-null float64\n",
      "Cabin          204 non-null object\n",
      "Embarked       889 non-null object\n",
      "dtypes: float64(2), int64(5), object(5)\n",
      "memory usage: 83.6+ KB\n",
      "None \n",
      "\n"
     ]
    }
   ],
   "source": [
    "import pandas as pd\n",
    "\n",
    "train = pd.read_csv(\"train.csv\")\n",
    "X_test = pd.read_csv(\"test.csv\")\n",
    "print(\"Info for Training Data\")\n",
    "print(train.info(), '\\n')\n",
    "\n",
    "X_train, y_train = train.drop(\"Survived\", axis = 1), train.Survived"
   ]
  },
  {
   "cell_type": "code",
   "execution_count": 67,
   "metadata": {},
   "outputs": [
    {
     "data": {
      "text/plain": [
       "PassengerId      0\n",
       "Pclass           0\n",
       "Name             0\n",
       "Sex              0\n",
       "Age            177\n",
       "SibSp            0\n",
       "Parch            0\n",
       "Ticket           0\n",
       "Fare             0\n",
       "Cabin          687\n",
       "Embarked         2\n",
       "dtype: int64"
      ]
     },
     "execution_count": 67,
     "metadata": {},
     "output_type": "execute_result"
    }
   ],
   "source": [
    "X_train.isna().sum()"
   ]
  },
  {
   "cell_type": "code",
   "execution_count": 68,
   "metadata": {},
   "outputs": [
    {
     "data": {
      "text/plain": [
       "array([22.  , 38.  , 26.  , 35.  ,   nan, 54.  ,  2.  , 27.  , 14.  ,\n",
       "        4.  , 58.  , 20.  , 39.  , 55.  , 31.  , 34.  , 15.  , 28.  ,\n",
       "        8.  , 19.  , 40.  , 66.  , 42.  , 21.  , 18.  ,  3.  ,  7.  ,\n",
       "       49.  , 29.  , 65.  , 28.5 ,  5.  , 11.  , 45.  , 17.  , 32.  ,\n",
       "       16.  , 25.  ,  0.83, 30.  , 33.  , 23.  , 24.  , 46.  , 59.  ,\n",
       "       71.  , 37.  , 47.  , 14.5 , 70.5 , 32.5 , 12.  ,  9.  , 36.5 ,\n",
       "       51.  , 55.5 , 40.5 , 44.  ,  1.  , 61.  , 56.  , 50.  , 36.  ,\n",
       "       45.5 , 20.5 , 62.  , 41.  , 52.  , 63.  , 23.5 ,  0.92, 43.  ,\n",
       "       60.  , 10.  , 64.  , 13.  , 48.  ,  0.75, 53.  , 57.  , 80.  ,\n",
       "       70.  , 24.5 ,  6.  ,  0.67, 30.5 ,  0.42, 34.5 , 74.  ])"
      ]
     },
     "execution_count": 68,
     "metadata": {},
     "output_type": "execute_result"
    }
   ],
   "source": [
    "X_train['Age'].unique()"
   ]
  },
  {
   "cell_type": "code",
   "execution_count": 69,
   "metadata": {},
   "outputs": [
    {
     "name": "stdout",
     "output_type": "stream",
     "text": [
      "PassengerId     -1\n",
      "Pclass          -1\n",
      "Name            -1\n",
      "Sex             -1\n",
      "Age           -178\n",
      "SibSp           -1\n",
      "Parch           -1\n",
      "Ticket          -1\n",
      "Fare            -1\n",
      "Cabin         -688\n",
      "Embarked        -3\n",
      "dtype: int64\n"
     ]
    }
   ],
   "source": [
    "print(~X_train.isna().sum())"
   ]
  },
  {
   "cell_type": "code",
   "execution_count": 70,
   "metadata": {},
   "outputs": [
    {
     "name": "stdout",
     "output_type": "stream",
     "text": [
      "PassengerId    0.000000\n",
      "Pclass         0.000000\n",
      "Name           0.000000\n",
      "Sex            0.000000\n",
      "Age            0.198653\n",
      "SibSp          0.000000\n",
      "Parch          0.000000\n",
      "Ticket         0.000000\n",
      "Fare           0.000000\n",
      "Cabin          0.771044\n",
      "Embarked       0.002245\n",
      "dtype: float64\n"
     ]
    }
   ],
   "source": [
    "df = X_train.isna().sum() / len(X_train)\n",
    "print(df)"
   ]
  },
  {
   "cell_type": "code",
   "execution_count": 75,
   "metadata": {},
   "outputs": [
    {
     "name": "stdout",
     "output_type": "stream",
     "text": [
      "0                                Braund, Mr. Owen Harris\n",
      "1      Cumings, Mrs. John Bradley (Florence Briggs Th...\n",
      "2                                 Heikkinen, Miss. Laina\n",
      "3           Futrelle, Mrs. Jacques Heath (Lily May Peel)\n",
      "4                               Allen, Mr. William Henry\n",
      "5                                       Moran, Mr. James\n",
      "6                                McCarthy, Mr. Timothy J\n",
      "7                         Palsson, Master. Gosta Leonard\n",
      "8      Johnson, Mrs. Oscar W (Elisabeth Vilhelmina Berg)\n",
      "9                    Nasser, Mrs. Nicholas (Adele Achem)\n",
      "10                       Sandstrom, Miss. Marguerite Rut\n",
      "11                              Bonnell, Miss. Elizabeth\n",
      "12                        Saundercock, Mr. William Henry\n",
      "13                           Andersson, Mr. Anders Johan\n",
      "14                  Vestrom, Miss. Hulda Amanda Adolfina\n",
      "15                      Hewlett, Mrs. (Mary D Kingcome) \n",
      "16                                  Rice, Master. Eugene\n",
      "17                          Williams, Mr. Charles Eugene\n",
      "18     Vander Planke, Mrs. Julius (Emelia Maria Vande...\n",
      "19                               Masselmani, Mrs. Fatima\n",
      "20                                  Fynney, Mr. Joseph J\n",
      "21                                 Beesley, Mr. Lawrence\n",
      "22                           McGowan, Miss. Anna \"Annie\"\n",
      "23                          Sloper, Mr. William Thompson\n",
      "24                         Palsson, Miss. Torborg Danira\n",
      "25     Asplund, Mrs. Carl Oscar (Selma Augusta Emilia...\n",
      "26                               Emir, Mr. Farred Chehab\n",
      "27                        Fortune, Mr. Charles Alexander\n",
      "28                         O'Dwyer, Miss. Ellen \"Nellie\"\n",
      "29                                   Todoroff, Mr. Lalio\n",
      "                             ...                        \n",
      "861                          Giles, Mr. Frederick Edward\n",
      "862    Swift, Mrs. Frederick Joel (Margaret Welles Ba...\n",
      "863                    Sage, Miss. Dorothy Edith \"Dolly\"\n",
      "864                               Gill, Mr. John William\n",
      "865                             Bystrom, Mrs. (Karolina)\n",
      "866                         Duran y More, Miss. Asuncion\n",
      "867                 Roebling, Mr. Washington Augustus II\n",
      "868                          van Melkebeke, Mr. Philemon\n",
      "869                      Johnson, Master. Harold Theodor\n",
      "870                                    Balkic, Mr. Cerin\n",
      "871     Beckwith, Mrs. Richard Leonard (Sallie Monypeny)\n",
      "872                             Carlsson, Mr. Frans Olof\n",
      "873                          Vander Cruyssen, Mr. Victor\n",
      "874                Abelson, Mrs. Samuel (Hannah Wizosky)\n",
      "875                     Najib, Miss. Adele Kiamie \"Jane\"\n",
      "876                        Gustafsson, Mr. Alfred Ossian\n",
      "877                                 Petroff, Mr. Nedelio\n",
      "878                                   Laleff, Mr. Kristo\n",
      "879        Potter, Mrs. Thomas Jr (Lily Alexenia Wilson)\n",
      "880         Shelley, Mrs. William (Imanita Parrish Hall)\n",
      "881                                   Markun, Mr. Johann\n",
      "882                         Dahlberg, Miss. Gerda Ulrika\n",
      "883                        Banfield, Mr. Frederick James\n",
      "884                               Sutehall, Mr. Henry Jr\n",
      "885                 Rice, Mrs. William (Margaret Norton)\n",
      "886                                Montvila, Rev. Juozas\n",
      "887                         Graham, Miss. Margaret Edith\n",
      "888             Johnston, Miss. Catherine Helen \"Carrie\"\n",
      "889                                Behr, Mr. Karl Howell\n",
      "890                                  Dooley, Mr. Patrick\n",
      "Name: Name, Length: 891, dtype: object\n",
      "           0\n",
      "0        Mr.\n",
      "1       Mrs.\n",
      "2      Miss.\n",
      "3       Mrs.\n",
      "4        Mr.\n",
      "5        Mr.\n",
      "6        Mr.\n",
      "7    Master.\n",
      "8       Mrs.\n",
      "9       Mrs.\n",
      "10     Miss.\n",
      "11     Miss.\n",
      "12       Mr.\n",
      "13       Mr.\n",
      "14     Miss.\n",
      "15      Mrs.\n",
      "16   Master.\n",
      "17       Mr.\n",
      "18      Mrs.\n",
      "19      Mrs.\n",
      "20       Mr.\n",
      "21       Mr.\n",
      "22     Miss.\n",
      "23       Mr.\n",
      "24     Miss.\n",
      "25      Mrs.\n",
      "26       Mr.\n",
      "27       Mr.\n",
      "28     Miss.\n",
      "29       Mr.\n",
      "..       ...\n",
      "861      Mr.\n",
      "862     Mrs.\n",
      "863    Miss.\n",
      "864      Mr.\n",
      "865     Mrs.\n",
      "866    Miss.\n",
      "867      Mr.\n",
      "868      Mr.\n",
      "869  Master.\n",
      "870      Mr.\n",
      "871     Mrs.\n",
      "872      Mr.\n",
      "873      Mr.\n",
      "874     Mrs.\n",
      "875    Miss.\n",
      "876      Mr.\n",
      "877      Mr.\n",
      "878      Mr.\n",
      "879     Mrs.\n",
      "880     Mrs.\n",
      "881      Mr.\n",
      "882    Miss.\n",
      "883      Mr.\n",
      "884      Mr.\n",
      "885     Mrs.\n",
      "886     Rev.\n",
      "887    Miss.\n",
      "888    Miss.\n",
      "889      Mr.\n",
      "890      Mr.\n",
      "\n",
      "[891 rows x 1 columns]\n"
     ]
    }
   ],
   "source": [
    "df = X_train['Name'].str.extract(r',\\s(\\w+\\.)', expand=True)\n",
    "print(X_train['Name'])\n",
    "print(df)"
   ]
  },
  {
   "cell_type": "code",
   "execution_count": null,
   "metadata": {},
   "outputs": [],
   "source": []
  }
 ],
 "metadata": {
  "kernelspec": {
   "display_name": "Python 3",
   "language": "python",
   "name": "python3"
  },
  "language_info": {
   "codemirror_mode": {
    "name": "ipython",
    "version": 3
   },
   "file_extension": ".py",
   "mimetype": "text/x-python",
   "name": "python",
   "nbconvert_exporter": "python",
   "pygments_lexer": "ipython3",
   "version": "3.7.3"
  }
 },
 "nbformat": 4,
 "nbformat_minor": 4
}
