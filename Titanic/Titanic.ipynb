{
 "cells": [
  {
   "cell_type": "code",
   "execution_count": 1,
   "metadata": {},
   "outputs": [],
   "source": [
    "import numpy as np\n",
    "import pandas as pd\n",
    "import matplotlib.pyplot as plt\n",
    "import seaborn as sns\n",
    "from sklearn.preprocessing import StandardScaler\n",
    "from sklearn.pipeline import Pipeline\n",
    "from sklearn.compose import ColumnTransformer\n",
    "from sklearn.impute import SimpleImputer\n",
    "from sklearn.model_selection import cross_val_score\n",
    "from sklearn.model_selection import GridSearchCV, RandomizedSearchCV\n",
    "from sklearn.linear_model import LogisticRegression\n",
    "from sklearn.ensemble import RandomForestClassifier, GradientBoostingClassifier\n",
    "from sklearn.svm import SVC\n",
    "from sklearn.tree import DecisionTreeClassifier\n",
    "from sklearn.neighbors import KNeighborsClassifier\n",
    "from sklearn.naive_bayes import GaussianNB\n",
    "from scipy.stats import expon\n",
    "%matplotlib inline"
   ]
  },
  {
   "cell_type": "code",
   "execution_count": 2,
   "metadata": {},
   "outputs": [
    {
     "name": "stdout",
     "output_type": "stream",
     "text": [
      "Info for Training Data\n",
      "<class 'pandas.core.frame.DataFrame'>\n",
      "RangeIndex: 891 entries, 0 to 890\n",
      "Data columns (total 12 columns):\n",
      " #   Column       Non-Null Count  Dtype  \n",
      "---  ------       --------------  -----  \n",
      " 0   PassengerId  891 non-null    int64  \n",
      " 1   Survived     891 non-null    int64  \n",
      " 2   Pclass       891 non-null    int64  \n",
      " 3   Name         891 non-null    object \n",
      " 4   Sex          891 non-null    object \n",
      " 5   Age          714 non-null    float64\n",
      " 6   SibSp        891 non-null    int64  \n",
      " 7   Parch        891 non-null    int64  \n",
      " 8   Ticket       891 non-null    object \n",
      " 9   Fare         891 non-null    float64\n",
      " 10  Cabin        204 non-null    object \n",
      " 11  Embarked     889 non-null    object \n",
      "dtypes: float64(2), int64(5), object(5)\n",
      "memory usage: 83.7+ KB\n",
      "None \n",
      "\n"
     ]
    }
   ],
   "source": [
    "train = pd.read_csv('train.csv')\n",
    "X_test = pd.read_csv('test.csv')\n",
    "\n",
    "\n",
    "print('Info for Training Data')\n",
    "print(train.info(), '\\n')\n",
    "\n",
    "\n",
    "X_train, y_train = train.drop('Survived', axis=1), train.Survived"
   ]
  },
  {
   "cell_type": "code",
   "execution_count": 19,
   "metadata": {},
   "outputs": [
    {
     "name": "stdout",
     "output_type": "stream",
     "text": [
      "Missing data from training set:\n",
      "\n",
      "Age         0.198653\n",
      "Cabin       0.771044\n",
      "Embarked    0.002245\n",
      "dtype: float64\n",
      "\n",
      "Missing data from testing set:\n",
      "\n",
      "Age      0.205742\n",
      "Fare     0.002392\n",
      "Cabin    0.782297\n",
      "dtype: float64\n"
     ]
    }
   ],
   "source": [
    "def summarise_missing(df):\n",
    "    '''Reruens field which have missing values, and proportion of missing values'''\n",
    "    return df.isna().mean()[df.isna().mean() > 0]\n",
    "\n",
    "print(\"Missing data from training set:\\n\")\n",
    "print(summarise_missing(X_train))\n",
    "\n",
    "print(\"\\nMissing data from testing set:\\n\")\n",
    "print(summarise_missing(X_test))"
   ]
  },
  {
   "cell_type": "code",
   "execution_count": 8,
   "metadata": {},
   "outputs": [
    {
     "data": {
      "text/plain": [
       "891"
      ]
     },
     "execution_count": 8,
     "metadata": {},
     "output_type": "execute_result"
    }
   ],
   "source": [
    "len(train)"
   ]
  },
  {
   "cell_type": "code",
   "execution_count": 20,
   "metadata": {},
   "outputs": [
    {
     "data": {
      "text/plain": [
       "0                              Braund, Mr. Owen Harris\n",
       "1    Cumings, Mrs. John Bradley (Florence Briggs Th...\n",
       "2                               Heikkinen, Miss. Laina\n",
       "3         Futrelle, Mrs. Jacques Heath (Lily May Peel)\n",
       "4                             Allen, Mr. William Henry\n",
       "Name: Name, dtype: object"
      ]
     },
     "execution_count": 20,
     "metadata": {},
     "output_type": "execute_result"
    }
   ],
   "source": [
    "X_train.Name.head()"
   ]
  },
  {
   "cell_type": "code",
   "execution_count": 27,
   "metadata": {},
   "outputs": [
    {
     "data": {
      "text/plain": [
       "<matplotlib.axes._subplots.AxesSubplot at 0x7f7ef435ec90>"
      ]
     },
     "execution_count": 27,
     "metadata": {},
     "output_type": "execute_result"
    },
    {
     "data": {
      "image/png": "[encoded data removed]",
      "text/plain": [
       "<Figure size 432x288 with 1 Axes>"
      ]
     },
     "metadata": {
      "needs_background": "light"
     },
     "output_type": "display_data"
    }
   ],
   "source": [
    "def titles(df=None, title_regex=r',\\s(\\w+\\.)', common_titles=['Mrs.', 'Mr.', 'Miss.', 'Master.']):\n",
    "    '''Returns a new dateframe with a title field added, based on finding title_regex in name_field'''\n",
    "    tmp = df.Name.str.extract(title_regex)\n",
    "    tmp[~tmp.isin(common_titles)] = 'Other'\n",
    "    return tmp\n",
    "\n",
    "def barplot_survival_by_cat(df, category):\n",
    "    survival_grouped = df.groupby(category, as_index=False).Survived.mean()\n",
    "    ax = sns.barplot(x=category, y='Survived', data=df)\n",
    "    plt.title('Survival Rate by {}'.format(category))\n",
    "    plt.xlabel(category)\n",
    "    plt.ylabel('Survival_Rate')\n",
    "    return ax\n",
    "\n",
    "train['Title'] = titles(train)\n",
    "\n",
    "barplot_survival_by_cat(train, 'Title')"
   ]
  },
  {
   "cell_type": "code",
   "execution_count": null,
   "metadata": {},
   "outputs": [],
   "source": [
    "class DropFields(object):\n",
    "    def __init__(self, cols):\n",
    "        self.cols = cols\n",
    "    \n",
    "    def transform(self, x):\n",
    "        tmp = x.copy()\n",
    "        return tmp.drop(self.cols, axis=1)\n",
    "    \n",
    "    def fit(self, x, y=None):\n",
    "        return self\n",
    "    \n",
    "class AddFeatures(object):\n",
    "    def __init__(self, features):\n",
    "        self.features = features:\n",
    "    \n",
    "    def transform(self, x):\n",
    "        tmp = x.copy()\n",
    "        for name, func in self.feartures.item():\n",
    "            tmp[name] = func(tmp)\n",
    "        return self\n",
    "    \n",
    "    def fit(self, x, y=None):\n",
    "        return self\n",
    "    \n",
    "class GetDummies(object):\n",
    "    def __init__(self):\n",
    "        pass\n",
    "    \n",
    "    def transform(self, x):\n",
    "        tmp = x.copy()\n",
    "        return pd.get_dummies(tmp)\n",
    "    \n",
    "    def fit(self, x, y=None):\n",
    "        return self\n",
    "\n",
    "models = {\n",
    "    'Logistic Regression': LogisticRegression(), \n",
    "    'Standard Vector Machine': SVC(),\n",
    "    'Decision Tree': DecisionTreeClassifier(),\n",
    "    'Gradient Boosring': KNeigborsClassifier(),\n",
    "    'Random Forest': RandomForestClassifier(),\n",
    "    'Gaussian Naive Bayes': GaussianNB()\n",
    "}\n",
    "\n",
    "t_steps = [('feature_adder', AddFeatures({'Title': titles}))]"
   ]
  }
 ],
 "metadata": {
  "kernelspec": {
   "display_name": "Python 3.8.11 ('pythonenv')",
   "language": "python",
   "name": "python3"
  },
  "language_info": {
   "codemirror_mode": {
    "name": "ipython",
    "version": 3
   },
   "file_extension": ".py",
   "mimetype": "text/x-python",
   "name": "python",
   "nbconvert_exporter": "python",
   "pygments_lexer": "ipython3",
   "version": "3.8.11 (default, Aug  6 2021, 08:56:27) \n[Clang 10.0.0 ]"
  },
  "vscode": {
   "interpreter": {
    "hash": "9958a56ca5485943583299b4d3627347dacf3a53366ef83dbbf1d65f5917f338"
   }
  }
 },
 "nbformat": 4,
 "nbformat_minor": 4
}
